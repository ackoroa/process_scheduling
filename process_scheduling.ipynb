{
 "cells": [
  {
   "cell_type": "markdown",
   "metadata": {},
   "source": [
    "# Imports and Constants"
   ]
  },
  {
   "cell_type": "code",
   "execution_count": 173,
   "metadata": {
    "collapsed": false
   },
   "outputs": [],
   "source": [
    "import sys\n",
    "from copy import deepcopy\n",
    "from collections import deque\n",
    "from functools import total_ordering\n",
    "from heapq import *"
   ]
  },
  {
   "cell_type": "markdown",
   "metadata": {},
   "source": [
    "# Define Process"
   ]
  },
  {
   "cell_type": "code",
   "execution_count": 174,
   "metadata": {
    "collapsed": true
   },
   "outputs": [],
   "source": [
    "@total_ordering\n",
    "class Process:\n",
    "    def __init__(self, id, arrive_time, burst_time):\n",
    "        self.id = id\n",
    "        self.arrive_time = arrive_time\n",
    "        self.burst_time = burst_time\n",
    "        self.wait_start_time = arrive_time\n",
    "        self.processed_time = 0\n",
    "        \n",
    "    # Question guarantees only one process arrives at a time\n",
    "    def __eq__(self, other):\n",
    "        if other == None:\n",
    "            return False\n",
    "        return self.arrive_time == other.arrive_time\n",
    "    \n",
    "    # Sort by burst_time for SRTF\n",
    "    def __lt__(self, other):\n",
    "        if self.burst_time != other.burst_time:\n",
    "            return self.burst_time < other.burst_time\n",
    "        return self.arrive_time < other.arrive_time\n",
    "        \n",
    "    #for printing purpose\n",
    "    def __repr__(self):\n",
    "        return ('[id %d : arrive_time %d,  burst_time %d]'%(self.id, self.arrive_time, self.burst_time))"
   ]
  },
  {
   "cell_type": "markdown",
   "metadata": {},
   "source": [
    "# Define Schedulers\n",
    "* Input: process_list, [time_quantum (Positive Integer), alpha]\n",
    "* Output_1 : Schedule list contains pairs of (time_stamp, proccess_id) indicating the time switching to that proccess_id\n",
    "* Output_2 : Average Waiting Time\n"
   ]
  },
  {
   "cell_type": "markdown",
   "metadata": {},
   "source": [
    "## First Come First Serve"
   ]
  },
  {
   "cell_type": "code",
   "execution_count": 215,
   "metadata": {
    "collapsed": true
   },
   "outputs": [],
   "source": [
    "def FCFS_scheduling(process_list):\n",
    "    #store the (switching time, proccess_id) pair\n",
    "    schedule = []\n",
    "    current_time = 0\n",
    "    waiting_time = 0\n",
    "    for process in process_list:\n",
    "        if(current_time < process.arrive_time):\n",
    "            current_time = process.arrive_time\n",
    "            \n",
    "        schedule.append((current_time, process.id))\n",
    "        waiting_time = waiting_time + (current_time - process.arrive_time)\n",
    "        current_time = current_time + process.burst_time\n",
    "    average_waiting_time = waiting_time / float(len(process_list))\n",
    "    \n",
    "    return schedule, average_waiting_time"
   ]
  },
  {
   "cell_type": "code",
   "execution_count": 216,
   "metadata": {
    "collapsed": false
   },
   "outputs": [
    {
     "name": "stdout",
     "output_type": "stream",
     "text": [
      "[(0, 0), (9, 1), (17, 2), (19, 3)]\n",
      "9.25\n"
     ]
    }
   ],
   "source": [
    "process_list = [\n",
    "    Process(0, 0, 9),\n",
    "    Process(1, 1, 8),\n",
    "    Process(2, 2, 2),\n",
    "    Process(3, 5, 2)\n",
    "]\n",
    "\n",
    "schedule, avg = FCFS_scheduling(process_list)\n",
    "print schedule\n",
    "print avg"
   ]
  },
  {
   "cell_type": "markdown",
   "metadata": {},
   "source": [
    "## Round Robin\n",
    "Scheduling process_list on round robin policy with time_quantum"
   ]
  },
  {
   "cell_type": "code",
   "execution_count": 217,
   "metadata": {
    "collapsed": true
   },
   "outputs": [],
   "source": [
    "def RR_scheduling(process_list, time_quantum ):\n",
    "    process_list = deepcopy(process_list)\n",
    "    n = float(len(process_list))\n",
    "    \n",
    "    schedule = []\n",
    "    current_time = 0\n",
    "    waiting_time = 0\n",
    "    \n",
    "    current_process = None\n",
    "    queue = deque()\n",
    "    \n",
    "    while len(queue) > 0 or len(process_list) > 0:\n",
    "        if len(queue) <= 0:\n",
    "            # Handle time-gaps\n",
    "            current_process = process_list[0]\n",
    "            process_list = process_list[1:]\n",
    "            current_time = current_process.arrive_time\n",
    "            schedule.append((current_time, current_process.id, 0))\n",
    "        else:\n",
    "            # RR process queue\n",
    "            prev_process = current_process\n",
    "            current_process = queue.popleft()\n",
    "            if current_process.id != prev_process.id:\n",
    "                prev_process.wait_start_time = current_time\n",
    "                waiting_time = waiting_time + current_time - current_process.wait_start_time\n",
    "                schedule.append((current_time, current_process.id, current_time - current_process.wait_start_time))\n",
    "        \n",
    "        # If process finish early reclaim time, otherwise preempt at quanta\n",
    "        process_time = min(\n",
    "            time_quantum, \n",
    "            current_process.burst_time - current_process.processed_time)\n",
    "        current_time = current_time + process_time\n",
    "        \n",
    "        # Process arrivals during quanta\n",
    "        while len(process_list) > 0 and process_list[0].arrive_time <= current_time:\n",
    "            queue.append(process_list[0])\n",
    "            process_list = process_list[1:]\n",
    "        \n",
    "        # Re-enqueue current process if not finished\n",
    "        current_process.processed_time = current_process.processed_time + process_time\n",
    "        if current_process.processed_time < current_process.burst_time:\n",
    "            queue.append(current_process)\n",
    "    \n",
    "    return (schedule, waiting_time / n)"
   ]
  },
  {
   "cell_type": "code",
   "execution_count": 218,
   "metadata": {
    "collapsed": false
   },
   "outputs": [
    {
     "name": "stdout",
     "output_type": "stream",
     "text": [
      "[(0, 0, 0), (2, 1, 1), (4, 2, 2), (6, 0, 4), (8, 1, 4), (10, 3, 5), (12, 0, 4), (14, 1, 4), (16, 0, 2), (18, 1, 2), (20, 0, 2)]\n",
      "7.5\n"
     ]
    }
   ],
   "source": [
    "process_list = [\n",
    "    Process(0, 0, 9),\n",
    "    Process(1, 1, 8),\n",
    "    Process(2, 2, 2),\n",
    "    Process(3, 5, 2)\n",
    "]\n",
    "\n",
    "schedule, avg = RR_scheduling(process_list, 2)\n",
    "print schedule\n",
    "print avg"
   ]
  },
  {
   "cell_type": "markdown",
   "metadata": {},
   "source": [
    "## Shortest Remaining Time First \n",
    "Scheduling process_list on SRTF, using process.burst_time to calculate the remaining time of the current process"
   ]
  },
  {
   "cell_type": "code",
   "execution_count": 212,
   "metadata": {
    "collapsed": false
   },
   "outputs": [],
   "source": [
    "def SRTF_scheduling(process_list):\n",
    "    process_list = deepcopy(process_list)\n",
    "    n = float(len(process_list))\n",
    "    \n",
    "    schedule = []\n",
    "    current_time = 0\n",
    "    waiting_time = 0\n",
    "    \n",
    "    current_process = None\n",
    "    queue = []\n",
    "    \n",
    "    while current_process != None or len(queue) > 0 or len(process_list) > 0:\n",
    "        if current_process == None:\n",
    "            if len(queue) > 0:\n",
    "                current_process = heappop(queue)\n",
    "                waiting_time = waiting_time + current_time - current_process.wait_start_time\n",
    "            else:\n",
    "                # Handle time gaps\n",
    "                current_process = process_list[0]\n",
    "                process_list = process_list[1:]\n",
    "                current_time = current_process.arrive_time\n",
    "                \n",
    "            schedule.append((current_time, current_process.id))\n",
    "        \n",
    "        # Advance time\n",
    "        current_time = current_time + 1\n",
    "        current_process.burst_time = current_process.burst_time - 1\n",
    "\n",
    "        # Process arrivals\n",
    "        if len(process_list) > 0 and process_list[0].arrive_time == current_time:\n",
    "            # Preempt current process if new process is shorter\n",
    "            if process_list[0].burst_time < current_process.burst_time:\n",
    "                current_process.wait_start_time = current_time\n",
    "                heappush(queue, current_process)\n",
    "                current_process = process_list[0]\n",
    "                schedule.append((current_time, current_process.id))\n",
    "            else:\n",
    "                heappush(queue, process_list[0])   \n",
    "            process_list = process_list[1:]        \n",
    "        \n",
    "        # Remove process if finished\n",
    "        if current_process.burst_time <= 0:\n",
    "            current_process = None            \n",
    "\n",
    "    return (schedule, waiting_time / n)"
   ]
  },
  {
   "cell_type": "code",
   "execution_count": 213,
   "metadata": {
    "collapsed": false
   },
   "outputs": [
    {
     "name": "stdout",
     "output_type": "stream",
     "text": [
      "[(0, 0), (3, 1), (8, 2), (9, 0), (25, 3)]\n",
      "1.75\n"
     ]
    }
   ],
   "source": [
    "process_list = [\n",
    "    Process(0, 0, 10),\n",
    "    Process(1, 3, 5),\n",
    "    Process(2, 7, 1),\n",
    "    Process(3, 25, 10)\n",
    "]\n",
    "\n",
    "schedule, avg = SRTF_scheduling(process_list)\n",
    "print schedule\n",
    "print avg"
   ]
  },
  {
   "cell_type": "markdown",
   "metadata": {},
   "source": [
    "## Shortest Job First\n",
    "Scheduling using future prediction SJF without using information from process.burst_time\n",
    "\n",
    "Let initial guess = 5 time units."
   ]
  },
  {
   "cell_type": "code",
   "execution_count": 181,
   "metadata": {
    "collapsed": true
   },
   "outputs": [],
   "source": [
    "def SJF_scheduling(process_list, alpha):\n",
    "    process_list = deepcopy(process_list)\n",
    "    n = float(len(process_list))\n",
    "    \n",
    "    schedule = []\n",
    "    current_time = 0\n",
    "    waiting_time = 0\n",
    "    \n",
    "    current_process = None\n",
    "    history = {}\n",
    "    queue = []\n",
    "    \n",
    "    while len(queue) > 0 or len(process_list) > 0:\n",
    "        if len(queue) <= 0:\n",
    "            # Handle time-gaps\n",
    "            current_process = process_list[0]\n",
    "            process_list = process_list[1:]\n",
    "            current_time = current_process.arrive_time\n",
    "            schedule.append((current_time, current_process.id))\n",
    "        else:\n",
    "            # Find shortest job\n",
    "            current_process = heappop(queue)\n",
    "            waiting_time = waiting_time + current_time - current_process.wait_start_time\n",
    "            schedule.append((current_time, current_process.id))\n",
    "        \n",
    "        # Process current procees till finish\n",
    "        current_time = current_time + current_process.burst_time\n",
    "        \n",
    "        # Process arrivals during quanta\n",
    "        while len(process_list) > 0 and process_list[0].arrive_time <= current_time:\n",
    "            heappush(queue, process_list[0])\n",
    "            process_list = process_list[1:]\n",
    "\n",
    "    return (schedule, waiting_time / n)"
   ]
  },
  {
   "cell_type": "code",
   "execution_count": 182,
   "metadata": {
    "collapsed": false
   },
   "outputs": [
    {
     "name": "stdout",
     "output_type": "stream",
     "text": [
      "[(0, 0), (10, 1), (25, 2)]\n",
      "1.66666666667\n"
     ]
    }
   ],
   "source": [
    "process_list = [\n",
    "    Process(0, 0, 10),\n",
    "    Process(1, 5, 10),\n",
    "    Process(2, 25, 10)\n",
    "]\n",
    "\n",
    "schedule, avg = SJF_scheduling(process_list, 0.5)\n",
    "print schedule\n",
    "print avg"
   ]
  },
  {
   "cell_type": "markdown",
   "metadata": {},
   "source": [
    "# Read/Write Input/Output"
   ]
  },
  {
   "cell_type": "code",
   "execution_count": 183,
   "metadata": {
    "collapsed": true
   },
   "outputs": [],
   "source": [
    "def read_input(file_name):\n",
    "    result = []\n",
    "    with open(file_name) as f:\n",
    "        for line in f:\n",
    "            array = line.split()\n",
    "            if (len(array)!= 3):\n",
    "                print (\"wrong input format\")\n",
    "                exit()\n",
    "            result.append(Process(int(array[0]),int(array[1]),int(array[2])))\n",
    "    return result"
   ]
  },
  {
   "cell_type": "code",
   "execution_count": 184,
   "metadata": {
    "collapsed": true
   },
   "outputs": [],
   "source": [
    "def write_output(file_name, schedule, avg_waiting_time):\n",
    "    with open(file_name,'w') as f:\n",
    "        for item in schedule:\n",
    "            f.write(str(item) + '\\n')\n",
    "        f.write('average waiting time %.2f \\n'%(avg_waiting_time))\n"
   ]
  },
  {
   "cell_type": "markdown",
   "metadata": {},
   "source": [
    "# Main Call"
   ]
  },
  {
   "cell_type": "code",
   "execution_count": 210,
   "metadata": {
    "collapsed": false
   },
   "outputs": [
    {
     "name": "stdout",
     "output_type": "stream",
     "text": [
      "simulating FCFS ----\n",
      "6.4375\n",
      "simulating RR ----\n",
      "8.5625\n",
      "simulating SRTF ----\n",
      "4.5\n",
      "simulating SJF ----\n",
      "(0, 0)\n",
      "(9, 2)\n",
      "(11, 3)\n",
      "(13, 1)\n",
      "(30, 3)\n",
      "(35, 1)\n",
      "(37, 2)\n",
      "(43, 0)\n",
      "(60, 2)\n",
      "(67, 0)\n",
      "(69, 1)\n",
      "(72, 3)\n",
      "(90, 1)\n",
      "(100, 3)\n",
      "(108, 2)\n",
      "(117, 0)\n",
      "5.4375\n"
     ]
    }
   ],
   "source": [
    "process_list = read_input('input.txt')\n",
    "#print (\"printing input ----\")\n",
    "#print '\\n'.join(map(str, process_list))\n",
    "\n",
    "print (\"simulating FCFS ----\")\n",
    "FCFS_schedule, FCFS_avg_waiting_time =  FCFS_scheduling(process_list)\n",
    "#print '\\n'.join(map(str, FCFS_schedule))\n",
    "print FCFS_avg_waiting_time\n",
    "write_output('FCFS.txt', FCFS_schedule, FCFS_avg_waiting_time )\n",
    "\n",
    "print (\"simulating RR ----\")\n",
    "RR_schedule, RR_avg_waiting_time =  RR_scheduling(process_list,time_quantum = 2)\n",
    "#print '\\n'.join(map(str, RR_schedule))\n",
    "print RR_avg_waiting_time\n",
    "write_output('RR.txt', RR_schedule, RR_avg_waiting_time )\n",
    "\n",
    "print (\"simulating SRTF ----\")\n",
    "SRTF_schedule, SRTF_avg_waiting_time =  SRTF_scheduling(process_list)\n",
    "#print '\\n'.join(map(str, SRTF_schedule))\n",
    "print SRTF_avg_waiting_time\n",
    "write_output('SRTF.txt', SRTF_schedule, SRTF_avg_waiting_time )\n",
    "\n",
    "print (\"simulating SJF ----\")\n",
    "SJF_schedule, SJF_avg_waiting_time =  SJF_scheduling(process_list, alpha = 0.5)\n",
    "print '\\n'.join(map(str, SJF_schedule))\n",
    "print SJF_avg_waiting_time\n",
    "write_output('SJF.txt', SJF_schedule, SJF_avg_waiting_time )"
   ]
  },
  {
   "cell_type": "code",
   "execution_count": null,
   "metadata": {
    "collapsed": true
   },
   "outputs": [],
   "source": []
  }
 ],
 "metadata": {
  "kernelspec": {
   "display_name": "Python 2",
   "language": "python",
   "name": "python2"
  },
  "language_info": {
   "codemirror_mode": {
    "name": "ipython",
    "version": 2
   },
   "file_extension": ".py",
   "mimetype": "text/x-python",
   "name": "python",
   "nbconvert_exporter": "python",
   "pygments_lexer": "ipython2",
   "version": "2.7.6"
  }
 },
 "nbformat": 4,
 "nbformat_minor": 0
}
