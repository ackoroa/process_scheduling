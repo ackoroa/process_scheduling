{
 "cells": [
  {
   "cell_type": "markdown",
   "metadata": {},
   "source": [
    "# Imports and Constants"
   ]
  },
  {
   "cell_type": "code",
   "execution_count": 25,
   "metadata": {
    "collapsed": false
   },
   "outputs": [],
   "source": [
    "import sys\n",
    "from collections import deque"
   ]
  },
  {
   "cell_type": "markdown",
   "metadata": {},
   "source": [
    "# Define Process"
   ]
  },
  {
   "cell_type": "code",
   "execution_count": 39,
   "metadata": {
    "collapsed": true
   },
   "outputs": [],
   "source": [
    "class Process:\n",
    "    def __init__(self, id, arrive_time, burst_time):\n",
    "        self.id = id\n",
    "        self.arrive_time = arrive_time\n",
    "        self.burst_time = burst_time\n",
    "        self.wait_start_time = arrive_time\n",
    "        self.processed_time = 0\n",
    "        \n",
    "    #for printing purpose\n",
    "    def __repr__(self):\n",
    "        return ('[id %d : arrive_time %d,  burst_time %d]'%(self.id, self.arrive_time, self.burst_time))"
   ]
  },
  {
   "cell_type": "markdown",
   "metadata": {},
   "source": [
    "# Define Schedulers\n",
    "* Input: process_list, [time_quantum (Positive Integer), alpha]\n",
    "* Output_1 : Schedule list contains pairs of (time_stamp, proccess_id) indicating the time switching to that proccess_id\n",
    "* Output_2 : Average Waiting Time\n"
   ]
  },
  {
   "cell_type": "markdown",
   "metadata": {},
   "source": [
    "## First Come First Serve"
   ]
  },
  {
   "cell_type": "code",
   "execution_count": 12,
   "metadata": {
    "collapsed": true
   },
   "outputs": [],
   "source": [
    "def FCFS_scheduling(process_list):\n",
    "    #store the (switching time, proccess_id) pair\n",
    "    schedule = []\n",
    "    current_time = 0\n",
    "    waiting_time = 0\n",
    "    for process in process_list:\n",
    "        if(current_time < process.arrive_time):\n",
    "            current_time = process.arrive_time\n",
    "            \n",
    "        schedule.append((current_time, process.id))\n",
    "        waiting_time = waiting_time + (current_time - process.arrive_time)\n",
    "        current_time = current_time + process.burst_time\n",
    "    average_waiting_time = waiting_time / float(len(process_list))\n",
    "    \n",
    "    return schedule, average_waiting_time"
   ]
  },
  {
   "cell_type": "code",
   "execution_count": 48,
   "metadata": {
    "collapsed": false
   },
   "outputs": [
    {
     "name": "stdout",
     "output_type": "stream",
     "text": [
      "[(0, 0), (10, 1), (25, 2)]\n",
      "1.66666666667\n"
     ]
    }
   ],
   "source": [
    "process_list = [\n",
    "    Process(0, 0, 10),\n",
    "    Process(1, 5, 10),\n",
    "    Process(2, 25, 10)\n",
    "]\n",
    "\n",
    "schedule, avg = FCFS_scheduling(process_list)\n",
    "print schedule\n",
    "print avg"
   ]
  },
  {
   "cell_type": "markdown",
   "metadata": {},
   "source": [
    "## Round Robin\n",
    "Scheduling process_list on round robin policy with time_quantum"
   ]
  },
  {
   "cell_type": "code",
   "execution_count": 50,
   "metadata": {
    "collapsed": true
   },
   "outputs": [],
   "source": [
    "def RR_scheduling(process_list, time_quantum ):\n",
    "    n = float(len(process_list))\n",
    "    \n",
    "    schedule = []\n",
    "    current_time = 0\n",
    "    waiting_time = 0\n",
    "    \n",
    "    current_process = None\n",
    "    queue = deque()\n",
    "    \n",
    "    while len(queue) > 0 or len(process_list) > 0:\n",
    "        # Handle time-gaps\n",
    "        if len(queue) <= 0:\n",
    "            current_process = process_list[0]\n",
    "            process_list = process_list[1:]\n",
    "            current_time = current_process.arrive_time\n",
    "            schedule.append((current_time, current_process.id))\n",
    "        # RR process queue\n",
    "        else:\n",
    "            prev_process = current_process\n",
    "            current_process = queue.popleft()\n",
    "            if current_process.id != prev_process.id:\n",
    "                prev_process.wait_start_time = current_time\n",
    "                waiting_time = waiting_time + current_time - current_process.wait_start_time\n",
    "                schedule.append((current_time, current_process.id))\n",
    "        \n",
    "        # If process finish early reclaim time, otherwise preempt at quanta\n",
    "        process_time = min(\n",
    "            time_quantum, \n",
    "            current_process.burst_time - current_process.processed_time)\n",
    "        current_time = current_time + process_time\n",
    "        \n",
    "        # Process arrivals during quanta\n",
    "        while len(process_list) > 0 and process_list[0].arrive_time <= current_time:\n",
    "            queue.append(process_list[0])\n",
    "            process_list = process_list[1:]\n",
    "        \n",
    "        # Re-enqueue current process if not finished\n",
    "        current_process.processed_time = current_process.processed_time + process_time\n",
    "        if current_process.processed_time < current_process.burst_time:\n",
    "            queue.append(current_process)\n",
    "    \n",
    "    return (schedule, waiting_time / n)"
   ]
  },
  {
   "cell_type": "code",
   "execution_count": 51,
   "metadata": {
    "collapsed": false
   },
   "outputs": [
    {
     "name": "stdout",
     "output_type": "stream",
     "text": [
      "[(0, 0), (6, 1), (8, 0), (10, 1), (12, 0), (14, 1), (25, 2)]\n",
      "3.0\n"
     ]
    }
   ],
   "source": [
    "process_list = [\n",
    "    Process(0, 0, 10),\n",
    "    Process(1, 5, 10),\n",
    "    Process(2, 25, 10)\n",
    "]\n",
    "\n",
    "schedule, avg = RR_scheduling(process_list, 2)\n",
    "print schedule\n",
    "print avg"
   ]
  },
  {
   "cell_type": "markdown",
   "metadata": {},
   "source": [
    "## Shortest Remaining Time First \n",
    "Scheduling process_list on SRTF, using process.burst_time to calculate the remaining time of the current process"
   ]
  },
  {
   "cell_type": "code",
   "execution_count": 5,
   "metadata": {
    "collapsed": true
   },
   "outputs": [],
   "source": [
    "def SRTF_scheduling(process_list):\n",
    "    return ([\"to be completed\"], 0.0)"
   ]
  },
  {
   "cell_type": "markdown",
   "metadata": {},
   "source": [
    "## Shortest Job First\n",
    "Scheduling using future prediction SJF without using information from process.burst_time\n",
    "\n",
    "Let initial guess = 5 time units."
   ]
  },
  {
   "cell_type": "code",
   "execution_count": 6,
   "metadata": {
    "collapsed": true
   },
   "outputs": [],
   "source": [
    "\n",
    "def SJF_scheduling(process_list, alpha):\n",
    "    return ([\"to be completed\"],0.0)"
   ]
  },
  {
   "cell_type": "markdown",
   "metadata": {},
   "source": [
    "# Read/Write Input/Output"
   ]
  },
  {
   "cell_type": "code",
   "execution_count": 7,
   "metadata": {
    "collapsed": true
   },
   "outputs": [],
   "source": [
    "def read_input(file_name):\n",
    "    result = []\n",
    "    with open(file_name) as f:\n",
    "        for line in f:\n",
    "            array = line.split()\n",
    "            if (len(array)!= 3):\n",
    "                print (\"wrong input format\")\n",
    "                exit()\n",
    "            result.append(Process(int(array[0]),int(array[1]),int(array[2])))\n",
    "    return result"
   ]
  },
  {
   "cell_type": "code",
   "execution_count": 8,
   "metadata": {
    "collapsed": true
   },
   "outputs": [],
   "source": [
    "def write_output(file_name, schedule, avg_waiting_time):\n",
    "    with open(file_name,'w') as f:\n",
    "        for item in schedule:\n",
    "            f.write(str(item) + '\\n')\n",
    "        f.write('average waiting time %.2f \\n'%(avg_waiting_time))\n"
   ]
  },
  {
   "cell_type": "markdown",
   "metadata": {},
   "source": [
    "# Main Call"
   ]
  },
  {
   "cell_type": "code",
   "execution_count": 9,
   "metadata": {
    "collapsed": false
   },
   "outputs": [
    {
     "name": "stdout",
     "output_type": "stream",
     "text": [
      "printing input ----\n",
      "[id 0 : arrive_time 0,  burst_time 9]\n",
      "[id 1 : arrive_time 1,  burst_time 8]\n",
      "[id 2 : arrive_time 2,  burst_time 2]\n",
      "[id 3 : arrive_time 5,  burst_time 2]\n",
      "[id 3 : arrive_time 30,  burst_time 5]\n",
      "[id 1 : arrive_time 31,  burst_time 2]\n",
      "[id 2 : arrive_time 32,  burst_time 6]\n",
      "[id 0 : arrive_time 38,  burst_time 8]\n",
      "[id 2 : arrive_time 60,  burst_time 7]\n",
      "[id 0 : arrive_time 62,  burst_time 2]\n",
      "[id 1 : arrive_time 65,  burst_time 3]\n",
      "[id 3 : arrive_time 66,  burst_time 8]\n",
      "[id 1 : arrive_time 90,  burst_time 10]\n",
      "[id 0 : arrive_time 95,  burst_time 10]\n",
      "[id 2 : arrive_time 98,  burst_time 9]\n",
      "[id 3 : arrive_time 99,  burst_time 8]\n",
      "simulating FCFS ----\n",
      "simulating RR ----\n",
      "simulating SRTF ----\n",
      "simulating SJF ----\n"
     ]
    }
   ],
   "source": [
    "process_list = read_input('input.txt')\n",
    "print (\"printing input ----\")\n",
    "for process in process_list:\n",
    "    print (process)\n",
    "\n",
    "print (\"simulating FCFS ----\")\n",
    "FCFS_schedule, FCFS_avg_waiting_time =  FCFS_scheduling(process_list)\n",
    "write_output('FCFS.txt', FCFS_schedule, FCFS_avg_waiting_time )\n",
    "\n",
    "print (\"simulating RR ----\")\n",
    "RR_schedule, RR_avg_waiting_time =  RR_scheduling(process_list,time_quantum = 2)\n",
    "write_output('RR.txt', RR_schedule, RR_avg_waiting_time )\n",
    "\n",
    "print (\"simulating SRTF ----\")\n",
    "SRTF_schedule, SRTF_avg_waiting_time =  SRTF_scheduling(process_list)\n",
    "write_output('SRTF.txt', SRTF_schedule, SRTF_avg_waiting_time )\n",
    "\n",
    "print (\"simulating SJF ----\")\n",
    "SJF_schedule, SJF_avg_waiting_time =  SJF_scheduling(process_list, alpha = 0.5)\n",
    "write_output('SJF.txt', SJF_schedule, SJF_avg_waiting_time )"
   ]
  },
  {
   "cell_type": "code",
   "execution_count": null,
   "metadata": {
    "collapsed": true
   },
   "outputs": [],
   "source": []
  }
 ],
 "metadata": {
  "kernelspec": {
   "display_name": "Python 2",
   "language": "python",
   "name": "python2"
  },
  "language_info": {
   "codemirror_mode": {
    "name": "ipython",
    "version": 2
   },
   "file_extension": ".py",
   "mimetype": "text/x-python",
   "name": "python",
   "nbconvert_exporter": "python",
   "pygments_lexer": "ipython2",
   "version": "2.7.6"
  }
 },
 "nbformat": 4,
 "nbformat_minor": 0
}
