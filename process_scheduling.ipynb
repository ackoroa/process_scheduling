{
 "cells": [
  {
   "cell_type": "markdown",
   "metadata": {},
   "source": [
    "# Imports"
   ]
  },
  {
   "cell_type": "code",
   "execution_count": 1,
   "metadata": {
    "collapsed": false
   },
   "outputs": [],
   "source": [
    "import sys\n",
    "\n",
    "from functools import total_ordering\n",
    "from copy import deepcopy\n",
    "\n",
    "from collections import deque\n",
    "from heapq import *\n",
    "\n",
    "import numpy as np\n",
    "import matplotlib.pyplot as plt\n",
    "%matplotlib inline"
   ]
  },
  {
   "cell_type": "markdown",
   "metadata": {},
   "source": [
    "# Define Process"
   ]
  },
  {
   "cell_type": "code",
   "execution_count": 2,
   "metadata": {
    "collapsed": true
   },
   "outputs": [],
   "source": [
    "@total_ordering\n",
    "class Process:\n",
    "    def __init__(self, id, arrive_time, burst_time):\n",
    "        self.id = id\n",
    "        self.arrive_time = arrive_time\n",
    "        self.burst_time = burst_time\n",
    "        self.predicted_burst_time = -1\n",
    "        self.wait_start_time = arrive_time\n",
    "        self.processed_time = 0\n",
    "        \n",
    "    # Question guarantees only one process arrives at a time\n",
    "    def __eq__(self, other):\n",
    "        if other == None:\n",
    "            return False\n",
    "        return self.arrive_time == other.arrive_time\n",
    "    \n",
    "    # Sort by burst_time for SRTF\n",
    "    # Sort by predicted_burst_time for SJF\n",
    "    def __lt__(self, other):\n",
    "        if self.predicted_burst_time == -1:\n",
    "            if self.burst_time != other.burst_time:\n",
    "                return self.burst_time < other.burst_time\n",
    "        else:\n",
    "            if self.predicted_burst_time != other.predicted_burst_time:\n",
    "                return self.predicted_burst_time < other.predicted_burst_time\n",
    "        return self.arrive_time < other.arrive_time\n",
    "        \n",
    "    #for printing purpose\n",
    "    def __repr__(self):\n",
    "        return ('[id %d : arrive_time %d,  burst_time %d]'%(self.id, self.arrive_time, self.burst_time))"
   ]
  },
  {
   "cell_type": "markdown",
   "metadata": {},
   "source": [
    "# Define Schedulers\n",
    "* Input: process_list, [time_quantum (Positive Integer), alpha]\n",
    "* Output_1 : Schedule list contains pairs of (time_stamp, proccess_id) indicating the time switching to that proccess_id\n",
    "* Output_2 : Average Waiting Time\n"
   ]
  },
  {
   "cell_type": "markdown",
   "metadata": {},
   "source": [
    "## First Come First Serve"
   ]
  },
  {
   "cell_type": "code",
   "execution_count": 3,
   "metadata": {
    "collapsed": true
   },
   "outputs": [],
   "source": [
    "def FCFS_scheduling(process_list):\n",
    "    #store the (switching time, proccess_id) pair\n",
    "    schedule = []\n",
    "    current_time = 0\n",
    "    waiting_time = 0\n",
    "    for process in process_list:\n",
    "        if(current_time < process.arrive_time):\n",
    "            current_time = process.arrive_time\n",
    "            \n",
    "        schedule.append((current_time, process.id))\n",
    "        waiting_time = waiting_time + (current_time - process.arrive_time)\n",
    "        current_time = current_time + process.burst_time\n",
    "    average_waiting_time = waiting_time / float(len(process_list))\n",
    "    \n",
    "    return schedule, average_waiting_time"
   ]
  },
  {
   "cell_type": "code",
   "execution_count": 4,
   "metadata": {
    "collapsed": false
   },
   "outputs": [
    {
     "name": "stdout",
     "output_type": "stream",
     "text": [
      "[(0, 0), (9, 1), (17, 2), (19, 3)]\n",
      "9.25\n"
     ]
    }
   ],
   "source": [
    "process_list = [\n",
    "    Process(0, 0, 9),\n",
    "    Process(1, 1, 8),\n",
    "    Process(2, 2, 2),\n",
    "    Process(3, 5, 2)\n",
    "]\n",
    "\n",
    "schedule, avg = FCFS_scheduling(process_list)\n",
    "print schedule\n",
    "print avg"
   ]
  },
  {
   "cell_type": "markdown",
   "metadata": {},
   "source": [
    "## Round Robin\n",
    "Scheduling process_list on round robin policy with time_quantum"
   ]
  },
  {
   "cell_type": "code",
   "execution_count": 5,
   "metadata": {
    "collapsed": true
   },
   "outputs": [],
   "source": [
    "def RR_scheduling(process_list, time_quantum ):\n",
    "    process_list = deepcopy(process_list)\n",
    "    n = float(len(process_list))\n",
    "    \n",
    "    schedule = []\n",
    "    current_time = 0\n",
    "    waiting_time = 0\n",
    "    \n",
    "    current_process = None\n",
    "    queue = deque()\n",
    "    \n",
    "    while len(queue) > 0 or len(process_list) > 0:\n",
    "        if len(queue) <= 0:\n",
    "            # Handle time-gaps\n",
    "            current_process = process_list[0]\n",
    "            process_list = process_list[1:]\n",
    "            current_time = current_process.arrive_time\n",
    "            schedule.append((current_time, current_process.id))\n",
    "        else:\n",
    "            # RR process queue\n",
    "            prev_process = current_process\n",
    "            current_process = queue.popleft()\n",
    "            if current_process.id != prev_process.id:\n",
    "                prev_process.wait_start_time = current_time\n",
    "                waiting_time = waiting_time + current_time - current_process.wait_start_time\n",
    "                schedule.append((current_time, current_process.id))\n",
    "        \n",
    "        # If process finish early reclaim time, otherwise preempt at quanta\n",
    "        process_time = min(\n",
    "            time_quantum, \n",
    "            current_process.burst_time - current_process.processed_time)\n",
    "        current_time = current_time + process_time\n",
    "        \n",
    "        # Process arrivals during quanta\n",
    "        while len(process_list) > 0 and process_list[0].arrive_time <= current_time:\n",
    "            queue.append(process_list[0])\n",
    "            process_list = process_list[1:]\n",
    "        \n",
    "        # Re-enqueue current process if not finished\n",
    "        current_process.processed_time = current_process.processed_time + process_time\n",
    "        if current_process.processed_time < current_process.burst_time:\n",
    "            queue.append(current_process)\n",
    "    \n",
    "    return (schedule, waiting_time / n)"
   ]
  },
  {
   "cell_type": "code",
   "execution_count": 6,
   "metadata": {
    "collapsed": false
   },
   "outputs": [
    {
     "name": "stdout",
     "output_type": "stream",
     "text": [
      "[(0, 0), (2, 1), (4, 2), (6, 0), (8, 1), (10, 3), (12, 0), (14, 1), (16, 0), (18, 1), (20, 0)]\n",
      "7.5\n"
     ]
    }
   ],
   "source": [
    "process_list = [\n",
    "    Process(0, 0, 9),\n",
    "    Process(1, 1, 8),\n",
    "    Process(2, 2, 2),\n",
    "    Process(3, 5, 2)\n",
    "]\n",
    "\n",
    "schedule, avg = RR_scheduling(process_list, 2)\n",
    "print schedule\n",
    "print avg"
   ]
  },
  {
   "cell_type": "markdown",
   "metadata": {},
   "source": [
    "## Shortest Remaining Time First \n",
    "Scheduling process_list on SRTF, using process.burst_time to calculate the remaining time of the current process"
   ]
  },
  {
   "cell_type": "code",
   "execution_count": 7,
   "metadata": {
    "collapsed": false
   },
   "outputs": [],
   "source": [
    "def SRTF_scheduling(process_list):\n",
    "    process_list = deepcopy(process_list)\n",
    "    n = float(len(process_list))\n",
    "    \n",
    "    schedule = []\n",
    "    current_time = 0\n",
    "    waiting_time = 0\n",
    "    \n",
    "    current_process = None\n",
    "    queue = []\n",
    "    \n",
    "    while current_process != None or len(queue) > 0 or len(process_list) > 0:\n",
    "        if current_process == None:\n",
    "            if len(queue) > 0:\n",
    "                current_process = heappop(queue)\n",
    "                waiting_time = waiting_time + current_time - current_process.wait_start_time\n",
    "            else:\n",
    "                # Handle time gaps\n",
    "                current_process = process_list[0]\n",
    "                process_list = process_list[1:]\n",
    "                current_time = current_process.arrive_time\n",
    "                \n",
    "            schedule.append((current_time, current_process.id))\n",
    "        \n",
    "        # Advance time\n",
    "        current_time = current_time + 1\n",
    "        current_process.burst_time = current_process.burst_time - 1\n",
    "\n",
    "        # Process arrivals\n",
    "        if len(process_list) > 0 and process_list[0].arrive_time == current_time:\n",
    "            # Preempt current process if new process is shorter\n",
    "            if process_list[0].burst_time < current_process.burst_time:\n",
    "                current_process.wait_start_time = current_time\n",
    "                heappush(queue, current_process)\n",
    "                current_process = process_list[0]\n",
    "                schedule.append((current_time, current_process.id))\n",
    "            else:\n",
    "                heappush(queue, process_list[0])   \n",
    "            process_list = process_list[1:]        \n",
    "        \n",
    "        # Remove process if finished\n",
    "        if current_process.burst_time <= 0:\n",
    "            current_process = None            \n",
    "\n",
    "    return (schedule, waiting_time / n)"
   ]
  },
  {
   "cell_type": "code",
   "execution_count": 8,
   "metadata": {
    "collapsed": false
   },
   "outputs": [
    {
     "name": "stdout",
     "output_type": "stream",
     "text": [
      "[(0, 0), (3, 1), (8, 2), (9, 0), (25, 3)]\n",
      "1.75\n"
     ]
    }
   ],
   "source": [
    "process_list = [\n",
    "    Process(0, 0, 10),\n",
    "    Process(1, 3, 5),\n",
    "    Process(2, 7, 1),\n",
    "    Process(3, 25, 10)\n",
    "]\n",
    "\n",
    "schedule, avg = SRTF_scheduling(process_list)\n",
    "print schedule\n",
    "print avg"
   ]
  },
  {
   "cell_type": "markdown",
   "metadata": {},
   "source": [
    "## Shortest Job First\n",
    "Scheduling using future-predicting SJF without using information from process.burst_time\n",
    "\n",
    "Initial guess = 5 time units\n",
    "\n",
    "guess_n+1 = alpha \\* burst_time_n + (1-alpha) \\* guess_n"
   ]
  },
  {
   "cell_type": "code",
   "execution_count": 9,
   "metadata": {
    "collapsed": true
   },
   "outputs": [],
   "source": [
    "def SJF_scheduling(process_list, alpha):\n",
    "    process_list = deepcopy(process_list)\n",
    "    n = float(len(process_list))\n",
    "    \n",
    "    schedule = []\n",
    "    current_time = 0\n",
    "    waiting_time = 0\n",
    "    \n",
    "    current_process = None\n",
    "    guesses = {}\n",
    "    queue = []\n",
    "    \n",
    "    while len(queue) > 0 or len(process_list) > 0:\n",
    "        if len(queue) <= 0:\n",
    "            # Handle time-gaps\n",
    "            current_process = process_list[0]\n",
    "            process_list = process_list[1:]\n",
    "            current_time = current_process.arrive_time\n",
    "            schedule.append((current_time, current_process.id))\n",
    "        else:\n",
    "            # Find shortest job\n",
    "            current_process = heappop(queue)\n",
    "            waiting_time = waiting_time + current_time - current_process.wait_start_time\n",
    "            schedule.append((current_time, current_process.id))\n",
    "        \n",
    "        # Process current procees till finish\n",
    "        current_time = current_time + current_process.burst_time\n",
    "        guesses[current_process.id] = alpha * current_process.burst_time + (1 - alpha) * guesses.get(current_process.id, 5)\n",
    "        \n",
    "        # Process arrivals during quanta\n",
    "        while len(process_list) > 0 and process_list[0].arrive_time <= current_time:\n",
    "            arrived_process = process_list[0]\n",
    "            arrived_process.predicted_burst_time = guesses.get(arrived_process.id, 5)\n",
    "            heappush(queue, process_list[0])\n",
    "            process_list = process_list[1:]\n",
    "\n",
    "    return (schedule, waiting_time / n)"
   ]
  },
  {
   "cell_type": "code",
   "execution_count": 10,
   "metadata": {
    "collapsed": false
   },
   "outputs": [
    {
     "name": "stdout",
     "output_type": "stream",
     "text": [
      "[(0, 0), (10, 1), (15, 2), (25, 3)]\n",
      "3.75\n"
     ]
    }
   ],
   "source": [
    "process_list = [\n",
    "    Process(0, 0, 10),\n",
    "    Process(1, 3, 5),\n",
    "    Process(2, 7, 1),\n",
    "    Process(3, 25, 10)\n",
    "]\n",
    "\n",
    "schedule, avg = SJF_scheduling(process_list, 0.5)\n",
    "print schedule\n",
    "print avg"
   ]
  },
  {
   "cell_type": "markdown",
   "metadata": {},
   "source": [
    "# Read/Write Input/Output"
   ]
  },
  {
   "cell_type": "code",
   "execution_count": 11,
   "metadata": {
    "collapsed": true
   },
   "outputs": [],
   "source": [
    "def read_input(file_name):\n",
    "    result = []\n",
    "    with open(file_name) as f:\n",
    "        for line in f:\n",
    "            array = line.split()\n",
    "            if (len(array)!= 3):\n",
    "                print (\"wrong input format\")\n",
    "                exit()\n",
    "            result.append(Process(int(array[0]),int(array[1]),int(array[2])))\n",
    "    return result"
   ]
  },
  {
   "cell_type": "code",
   "execution_count": 12,
   "metadata": {
    "collapsed": true
   },
   "outputs": [],
   "source": [
    "def write_output(file_name, schedule, avg_waiting_time):\n",
    "    with open(file_name,'w') as f:\n",
    "        for item in schedule:\n",
    "            f.write(str(item) + '\\n')\n",
    "        f.write('average waiting time %.2f \\n'%(avg_waiting_time))\n"
   ]
  },
  {
   "cell_type": "markdown",
   "metadata": {},
   "source": [
    "# Task 1 Main Call"
   ]
  },
  {
   "cell_type": "code",
   "execution_count": 13,
   "metadata": {
    "collapsed": false
   },
   "outputs": [
    {
     "name": "stdout",
     "output_type": "stream",
     "text": [
      "printing input ----\n",
      "[id 0 : arrive_time 0,  burst_time 9]\n",
      "[id 1 : arrive_time 1,  burst_time 8]\n",
      "[id 2 : arrive_time 2,  burst_time 2]\n",
      "[id 3 : arrive_time 5,  burst_time 2]\n",
      "[id 3 : arrive_time 30,  burst_time 5]\n",
      "[id 1 : arrive_time 31,  burst_time 2]\n",
      "[id 2 : arrive_time 32,  burst_time 6]\n",
      "[id 0 : arrive_time 38,  burst_time 8]\n",
      "[id 2 : arrive_time 60,  burst_time 7]\n",
      "[id 0 : arrive_time 62,  burst_time 2]\n",
      "[id 1 : arrive_time 65,  burst_time 3]\n",
      "[id 3 : arrive_time 66,  burst_time 8]\n",
      "[id 1 : arrive_time 90,  burst_time 10]\n",
      "[id 0 : arrive_time 95,  burst_time 10]\n",
      "[id 2 : arrive_time 98,  burst_time 9]\n",
      "[id 3 : arrive_time 99,  burst_time 8]\n",
      "simulating FCFS ----\n",
      "(0, 0)\n",
      "(9, 1)\n",
      "(17, 2)\n",
      "(19, 3)\n",
      "(30, 3)\n",
      "(35, 1)\n",
      "(37, 2)\n",
      "(43, 0)\n",
      "(60, 2)\n",
      "(67, 0)\n",
      "(69, 1)\n",
      "(72, 3)\n",
      "(90, 1)\n",
      "(100, 0)\n",
      "(110, 2)\n",
      "(119, 3)\n",
      "6.4375\n",
      "simulating RR ----\n",
      "(0, 0)\n",
      "(2, 1)\n",
      "(4, 2)\n",
      "(6, 0)\n",
      "(8, 1)\n",
      "(10, 3)\n",
      "(12, 0)\n",
      "(14, 1)\n",
      "(16, 0)\n",
      "(18, 1)\n",
      "(20, 0)\n",
      "(30, 3)\n",
      "(32, 1)\n",
      "(34, 2)\n",
      "(36, 3)\n",
      "(38, 2)\n",
      "(40, 0)\n",
      "(42, 3)\n",
      "(43, 2)\n",
      "(45, 0)\n",
      "(60, 2)\n",
      "(62, 0)\n",
      "(64, 2)\n",
      "(66, 1)\n",
      "(68, 3)\n",
      "(70, 2)\n",
      "(72, 1)\n",
      "(73, 3)\n",
      "(75, 2)\n",
      "(76, 3)\n",
      "(90, 1)\n",
      "(96, 0)\n",
      "(98, 1)\n",
      "(100, 2)\n",
      "(102, 0)\n",
      "(104, 3)\n",
      "(106, 1)\n",
      "(108, 2)\n",
      "(110, 0)\n",
      "(112, 3)\n",
      "(114, 2)\n",
      "(116, 0)\n",
      "(118, 3)\n",
      "(120, 2)\n",
      "(122, 0)\n",
      "(124, 3)\n",
      "(126, 2)\n",
      "8.5625\n",
      "simulating SRTF ----\n",
      "(0, 0)\n",
      "(2, 2)\n",
      "(4, 0)\n",
      "(5, 3)\n",
      "(7, 0)\n",
      "(13, 1)\n",
      "(30, 3)\n",
      "(31, 1)\n",
      "(33, 3)\n",
      "(37, 2)\n",
      "(43, 0)\n",
      "(60, 2)\n",
      "(62, 0)\n",
      "(64, 2)\n",
      "(65, 1)\n",
      "(68, 2)\n",
      "(72, 3)\n",
      "(90, 1)\n",
      "(100, 3)\n",
      "(108, 2)\n",
      "(117, 0)\n",
      "4.5\n",
      "simulating SJF ----\n",
      "(0, 0)\n",
      "(9, 1)\n",
      "(17, 2)\n",
      "(19, 3)\n",
      "(30, 3)\n",
      "(35, 2)\n",
      "(41, 1)\n",
      "(43, 0)\n",
      "(60, 2)\n",
      "(67, 1)\n",
      "(70, 3)\n",
      "(78, 0)\n",
      "(90, 1)\n",
      "(100, 0)\n",
      "(110, 2)\n",
      "(119, 3)\n",
      "7.125\n"
     ]
    }
   ],
   "source": [
    "process_list = read_input('input.txt')\n",
    "print (\"printing input ----\")\n",
    "print '\\n'.join(map(str, process_list))\n",
    "\n",
    "print (\"simulating FCFS ----\")\n",
    "FCFS_schedule, FCFS_avg_waiting_time =  FCFS_scheduling(process_list)\n",
    "print '\\n'.join(map(str, FCFS_schedule))\n",
    "print FCFS_avg_waiting_time\n",
    "write_output('FCFS.txt', FCFS_schedule, FCFS_avg_waiting_time )\n",
    "\n",
    "print (\"simulating RR ----\")\n",
    "RR_schedule, RR_avg_waiting_time =  RR_scheduling(process_list,time_quantum = 2)\n",
    "print '\\n'.join(map(str, RR_schedule))\n",
    "print RR_avg_waiting_time\n",
    "write_output('RR.txt', RR_schedule, RR_avg_waiting_time )\n",
    "\n",
    "print (\"simulating SRTF ----\")\n",
    "SRTF_schedule, SRTF_avg_waiting_time =  SRTF_scheduling(process_list)\n",
    "print '\\n'.join(map(str, SRTF_schedule))\n",
    "print SRTF_avg_waiting_time\n",
    "write_output('SRTF.txt', SRTF_schedule, SRTF_avg_waiting_time )\n",
    "\n",
    "print (\"simulating SJF ----\")\n",
    "SJF_schedule, SJF_avg_waiting_time =  SJF_scheduling(process_list, alpha = 0.5)\n",
    "print '\\n'.join(map(str, SJF_schedule))\n",
    "print SJF_avg_waiting_time\n",
    "write_output('SJF.txt', SJF_schedule, SJF_avg_waiting_time )"
   ]
  },
  {
   "cell_type": "markdown",
   "metadata": {
    "collapsed": true
   },
   "source": [
    "# Task 2\n",
    "## Question 1: Optimum Q and alpha for given input"
   ]
  },
  {
   "cell_type": "code",
   "execution_count": 14,
   "metadata": {
    "collapsed": false
   },
   "outputs": [
    {
     "name": "stdout",
     "output_type": "stream",
     "text": [
      "10\n",
      "6.4375\n",
      "(0, 0)\n",
      "(9, 1)\n",
      "(17, 2)\n",
      "(19, 3)\n",
      "(30, 3)\n",
      "(35, 1)\n",
      "(37, 2)\n",
      "(43, 0)\n",
      "(60, 2)\n",
      "(67, 0)\n",
      "(69, 1)\n",
      "(72, 3)\n",
      "(90, 1)\n",
      "(100, 0)\n",
      "(110, 2)\n",
      "(119, 3)\n"
     ]
    },
    {
     "data": {
      "image/png": "[encoded data removed]",
      "text/plain": [
       "<matplotlib.figure.Figure at 0x7f85e0494d10>"
      ]
     },
     "metadata": {},
     "output_type": "display_data"
    }
   ],
   "source": [
    "q_range = range(1, 30)\n",
    "\n",
    "RR_avg_waiting_times = []\n",
    "min_avg_time = 10000000\n",
    "opt_q = -1 \n",
    "opt_schedule = []\n",
    "for Q in q_range:\n",
    "    schedule, avg_waiting_time =  RR_scheduling(process_list,time_quantum = Q)\n",
    "    RR_avg_waiting_times.append(avg_waiting_time)\n",
    "    if min_avg_time > avg_waiting_time:\n",
    "        min_avg_time = avg_waiting_time\n",
    "        opt_q = Q\n",
    "        opt_schedule = schedule\n",
    "        \n",
    "plt.plot(q_range, RR_avg_waiting_times)\n",
    "print opt_q\n",
    "print min_avg_time\n",
    "print '\\n'.join(map(str, opt_schedule))"
   ]
  },
  {
   "cell_type": "code",
   "execution_count": 15,
   "metadata": {
    "collapsed": false
   },
   "outputs": [
    {
     "name": "stdout",
     "output_type": "stream",
     "text": [
      "0.0\n",
      "6.4375\n",
      "(0, 0)\n",
      "(9, 1)\n",
      "(17, 2)\n",
      "(19, 3)\n",
      "(30, 3)\n",
      "(35, 1)\n",
      "(37, 2)\n",
      "(43, 0)\n",
      "(60, 2)\n",
      "(67, 0)\n",
      "(69, 1)\n",
      "(72, 3)\n",
      "(90, 1)\n",
      "(100, 0)\n",
      "(110, 2)\n",
      "(119, 3)\n"
     ]
    },
    {
     "data": {
      "image/png": "[encoded data removed]",
      "text/plain": [
       "<matplotlib.figure.Figure at 0x7f85e038f850>"
      ]
     },
     "metadata": {},
     "output_type": "display_data"
    }
   ],
   "source": [
    "alpha_range = np.arange(0, 1.1, 0.1)\n",
    "\n",
    "SJF_avg_waiting_times = []\n",
    "min_avg_time = 10000000\n",
    "opt_alpha = -1 \n",
    "opt_schedule = []\n",
    "for alpha in alpha_range:\n",
    "    schedule, avg_waiting_time =  SJF_scheduling(process_list, alpha = alpha)\n",
    "    SJF_avg_waiting_times.append(avg_waiting_time)\n",
    "    if min_avg_time > avg_waiting_time:\n",
    "        min_avg_time = avg_waiting_time\n",
    "        opt_alpha = alpha\n",
    "        opt_schedule = schedule\n",
    "\n",
    "plt.plot(alpha_range, SJF_avg_waiting_times)\n",
    "print opt_alpha\n",
    "print min_avg_time\n",
    "print '\\n'.join(map(str, opt_schedule))"
   ]
  },
  {
   "cell_type": "markdown",
   "metadata": {},
   "source": [
    "## Question 2: Optimal scheme for:\n",
    "### a) All short processes"
   ]
  },
  {
   "cell_type": "code",
   "execution_count": 16,
   "metadata": {
    "collapsed": false
   },
   "outputs": [],
   "source": [
    "process_list = [\n",
    "    Process(0, 0, 4),\n",
    "    Process(1, 1, 3),\n",
    "    Process(2, 2, 5),\n",
    "    Process(3, 3, 3),\n",
    "    Process(3, 4, 4),\n",
    "    Process(1, 5, 3),\n",
    "    Process(3, 6, 4),\n",
    "    Process(2, 7, 5),\n",
    "    Process(0, 8, 3),\n",
    "    Process(1, 9, 2),\n",
    "    Process(0, 10, 3),\n",
    "    Process(0, 11, 3),\n",
    "    Process(3, 12, 1),\n",
    "    Process(2, 13, 2),\n",
    "    Process(3, 14, 4),\n",
    "    Process(1, 15, 2),\n",
    "    Process(2, 16, 5),\n",
    "    Process(0, 17, 5),\n",
    "    Process(1, 18, 2),\n",
    "    Process(3, 19, 2),\n",
    "    Process(1, 20, 3)\n",
    "]"
   ]
  },
  {
   "cell_type": "code",
   "execution_count": 17,
   "metadata": {
    "collapsed": false
   },
   "outputs": [
    {
     "name": "stdout",
     "output_type": "stream",
     "text": [
      "5\n",
      "22.4285714286\n",
      "(0, 0)\n",
      "(4, 1)\n",
      "(7, 2)\n",
      "(12, 3)\n",
      "(19, 1)\n",
      "(22, 3)\n",
      "(26, 2)\n",
      "(31, 0)\n",
      "(34, 1)\n",
      "(36, 0)\n",
      "(42, 3)\n",
      "(43, 2)\n",
      "(45, 3)\n",
      "(49, 1)\n",
      "(51, 2)\n",
      "(56, 0)\n",
      "(61, 1)\n",
      "(63, 3)\n",
      "(65, 1)\n"
     ]
    },
    {
     "data": {
      "image/png": "[encoded data removed]",
      "text/plain": [
       "<matplotlib.figure.Figure at 0x7f85e0494ad0>"
      ]
     },
     "metadata": {},
     "output_type": "display_data"
    }
   ],
   "source": [
    "RR_avg_waiting_times = []\n",
    "min_avg_time = 10000000\n",
    "opt_q = -1 \n",
    "opt_schedule = []\n",
    "for Q in q_range:\n",
    "    schedule, avg_waiting_time =  RR_scheduling(process_list,time_quantum = Q)\n",
    "    RR_avg_waiting_times.append(avg_waiting_time)\n",
    "    if min_avg_time > avg_waiting_time:\n",
    "        min_avg_time = avg_waiting_time\n",
    "        opt_q = Q\n",
    "        opt_schedule = schedule\n",
    "        \n",
    "plt.plot(q_range, RR_avg_waiting_times)\n",
    "print opt_q\n",
    "print min_avg_time\n",
    "print '\\n'.join(map(str, opt_schedule))"
   ]
  },
  {
   "cell_type": "code",
   "execution_count": 18,
   "metadata": {
    "collapsed": false
   },
   "outputs": [
    {
     "name": "stdout",
     "output_type": "stream",
     "text": [
      "0.1\n",
      "21.7619047619\n",
      "(0, 0)\n",
      "(4, 1)\n",
      "(7, 1)\n",
      "(10, 1)\n",
      "(12, 0)\n",
      "(15, 1)\n",
      "(17, 0)\n",
      "(22, 1)\n",
      "(24, 1)\n",
      "(27, 0)\n",
      "(30, 0)\n",
      "(33, 2)\n",
      "(38, 3)\n",
      "(41, 3)\n",
      "(45, 3)\n",
      "(49, 2)\n",
      "(54, 3)\n",
      "(55, 2)\n",
      "(57, 3)\n",
      "(61, 2)\n",
      "(66, 3)\n"
     ]
    },
    {
     "data": {
      "image/png": "[encoded data removed]",
      "text/plain": [
       "<matplotlib.figure.Figure at 0x7f85e018e690>"
      ]
     },
     "metadata": {},
     "output_type": "display_data"
    }
   ],
   "source": [
    "SJF_avg_waiting_times = []\n",
    "min_avg_time = 10000000\n",
    "opt_alpha = -1 \n",
    "opt_schedule = []\n",
    "for alpha in alpha_range:\n",
    "    schedule, avg_waiting_time =  SJF_scheduling(process_list, alpha = alpha)\n",
    "    SJF_avg_waiting_times.append(avg_waiting_time)\n",
    "    if min_avg_time > avg_waiting_time:\n",
    "        min_avg_time = avg_waiting_time\n",
    "        opt_alpha = alpha\n",
    "        opt_schedule = schedule\n",
    "\n",
    "plt.plot(alpha_range, SJF_avg_waiting_times)\n",
    "print opt_alpha\n",
    "print min_avg_time\n",
    "print '\\n'.join(map(str, opt_schedule))"
   ]
  },
  {
   "cell_type": "markdown",
   "metadata": {},
   "source": [
    "### b) Very short and very long processes interleaved"
   ]
  },
  {
   "cell_type": "code",
   "execution_count": 19,
   "metadata": {
    "collapsed": true
   },
   "outputs": [],
   "source": [
    "process_list = [\n",
    "    Process(0, 0, 20),\n",
    "    Process(1, 1, 3),\n",
    "    Process(2, 2, 15),\n",
    "    Process(3, 3, 3),\n",
    "    Process(3, 4, 4),\n",
    "    Process(1, 5, 3),\n",
    "    Process(3, 6, 4),\n",
    "    Process(2, 7, 25),\n",
    "    Process(0, 8, 20),\n",
    "    Process(1, 9, 2),\n",
    "    Process(1, 10, 4),\n",
    "    Process(0, 11, 13),\n",
    "    Process(3, 12, 1),\n",
    "    Process(2, 13, 20),\n",
    "    Process(3, 14, 4),\n",
    "    Process(1, 15, 2),\n",
    "    Process(2, 16, 15),\n",
    "    Process(0, 17, 25),\n",
    "    Process(1, 18, 2),\n",
    "    Process(3, 19, 2),\n",
    "    Process(1, 20, 3)\n",
    "]"
   ]
  },
  {
   "cell_type": "code",
   "execution_count": 20,
   "metadata": {
    "collapsed": false
   },
   "outputs": [
    {
     "name": "stdout",
     "output_type": "stream",
     "text": [
      "10\n",
      "66.4761904762\n",
      "(0, 0)\n",
      "(10, 1)\n",
      "(13, 2)\n",
      "(23, 3)\n",
      "(30, 1)\n",
      "(33, 3)\n",
      "(37, 2)\n",
      "(47, 0)\n",
      "(57, 1)\n",
      "(63, 0)\n",
      "(83, 3)\n",
      "(84, 2)\n",
      "(94, 3)\n",
      "(98, 1)\n",
      "(100, 2)\n",
      "(110, 0)\n",
      "(120, 1)\n",
      "(122, 3)\n",
      "(124, 1)\n",
      "(127, 2)\n",
      "(142, 0)\n",
      "(155, 2)\n",
      "(170, 0)\n",
      "(180, 2)\n",
      "(185, 0)\n"
     ]
    },
    {
     "data": {
      "image/png": "[encoded data removed]",
      "text/plain": [
       "<matplotlib.figure.Figure at 0x7f85e017bcd0>"
      ]
     },
     "metadata": {},
     "output_type": "display_data"
    }
   ],
   "source": [
    "RR_avg_waiting_times = []\n",
    "min_avg_time = 10000000\n",
    "opt_q = -1 \n",
    "opt_schedule = []\n",
    "for Q in q_range:\n",
    "    schedule, avg_waiting_time =  RR_scheduling(process_list,time_quantum = Q)\n",
    "    RR_avg_waiting_times.append(avg_waiting_time)\n",
    "    if min_avg_time > avg_waiting_time:\n",
    "        min_avg_time = avg_waiting_time\n",
    "        opt_q = Q\n",
    "        opt_schedule = schedule\n",
    "        \n",
    "plt.plot(q_range, RR_avg_waiting_times)\n",
    "print opt_q\n",
    "print min_avg_time\n",
    "print '\\n'.join(map(str, opt_schedule))"
   ]
  },
  {
   "cell_type": "code",
   "execution_count": 21,
   "metadata": {
    "collapsed": false
   },
   "outputs": [
    {
     "name": "stdout",
     "output_type": "stream",
     "text": [
      "0.1\n",
      "72.9523809524\n",
      "(0, 0)\n",
      "(20, 1)\n",
      "(23, 2)\n",
      "(38, 3)\n",
      "(41, 3)\n",
      "(45, 1)\n",
      "(48, 3)\n",
      "(52, 2)\n",
      "(77, 1)\n",
      "(79, 1)\n",
      "(83, 3)\n",
      "(84, 2)\n",
      "(104, 3)\n",
      "(108, 1)\n",
      "(110, 2)\n",
      "(125, 1)\n",
      "(127, 3)\n",
      "(129, 1)\n",
      "(132, 0)\n",
      "(152, 0)\n",
      "(165, 0)\n"
     ]
    },
    {
     "data": {
      "image/png": "[encoded data removed]",
      "text/plain": [
       "<matplotlib.figure.Figure at 0x7f85e0009990>"
      ]
     },
     "metadata": {},
     "output_type": "display_data"
    }
   ],
   "source": [
    "SJF_avg_waiting_times = []\n",
    "min_avg_time = 10000000\n",
    "opt_alpha = -1 \n",
    "opt_schedule = []\n",
    "for alpha in alpha_range:\n",
    "    schedule, avg_waiting_time =  SJF_scheduling(process_list, alpha = alpha)\n",
    "    SJF_avg_waiting_times.append(avg_waiting_time)\n",
    "    if min_avg_time > avg_waiting_time:\n",
    "        min_avg_time = avg_waiting_time\n",
    "        opt_alpha = alpha\n",
    "        opt_schedule = schedule\n",
    "\n",
    "plt.plot(alpha_range, SJF_avg_waiting_times)\n",
    "print opt_alpha\n",
    "print min_avg_time\n",
    "print '\\n'.join(map(str, opt_schedule))"
   ]
  },
  {
   "cell_type": "code",
   "execution_count": null,
   "metadata": {
    "collapsed": true
   },
   "outputs": [],
   "source": []
  },
  {
   "cell_type": "code",
   "execution_count": null,
   "metadata": {
    "collapsed": true
   },
   "outputs": [],
   "source": []
  },
  {
   "cell_type": "code",
   "execution_count": null,
   "metadata": {
    "collapsed": true
   },
   "outputs": [],
   "source": []
  }
 ],
 "metadata": {
  "kernelspec": {
   "display_name": "Python 2",
   "language": "python",
   "name": "python2"
  },
  "language_info": {
   "codemirror_mode": {
    "name": "ipython",
    "version": 2
   },
   "file_extension": ".py",
   "mimetype": "text/x-python",
   "name": "python",
   "nbconvert_exporter": "python",
   "pygments_lexer": "ipython2",
   "version": "2.7.6"
  }
 },
 "nbformat": 4,
 "nbformat_minor": 0
}
